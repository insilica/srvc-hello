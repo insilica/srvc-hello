{
 "cells": [
  {
   "cell_type": "code",
   "execution_count": 1,
   "metadata": {},
   "outputs": [],
   "source": [
    "import json, math, os, time"
   ]
  },
  {
   "cell_type": "code",
   "execution_count": 2,
   "metadata": {
    "scrolled": false
   },
   "outputs": [
    {
     "data": {
      "text/plain": [
       "[{'data': {'hash': 'QmZJgd4JF3WQpdPjaUcekcW9BJkBMfGmR41icfhbGaH1c3',\n",
       "   'id': 'acute_tox',\n",
       "   'question': 'Acute toxicity?',\n",
       "   'required': False,\n",
       "   'type': 'boolean'},\n",
       "  'hash': 'Qmbbi3ukmQcXd3Y9BdEgAuePsW4i3U3NfzL7JFSbPicAw3',\n",
       "  'type': 'label'},\n",
       " {'data': {'hash': 'QmdGr5mwDoaS7csa4VdY4eDrJU1yPqHpQt3JV8hQsPms6a',\n",
       "   'id': 'eye_irrit',\n",
       "   'question': 'Eye irritation?',\n",
       "   'required': False,\n",
       "   'type': 'boolean'},\n",
       "  'hash': 'QmUUmWmmr2svQNqCX86DBgekUZUQzwWRE3MreyMfcf9wog',\n",
       "  'type': 'label'}]"
      ]
     },
     "execution_count": 2,
     "metadata": {},
     "output_type": "execute_result"
    }
   ],
   "source": [
    "config = json.load(open(os.environ['SR_CONFIG']))\n",
    "labels = config['current_labels']\n",
    "labels"
   ]
  },
  {
   "cell_type": "code",
   "execution_count": 3,
   "metadata": {},
   "outputs": [],
   "source": [
    "def get_boolean_answer(label):\n",
    "    data = label['data']\n",
    "    print(data['question'], end=' ')\n",
    "    while True:\n",
    "        if data['required']:\n",
    "            print('[Yes/No]', end=' ')\n",
    "        else:\n",
    "            print('[Yes/No/Skip]', end=' ')\n",
    "        response = input().strip().lower()\n",
    "        if response.startswith('yes'):\n",
    "            return True\n",
    "        elif response.startswith('no'):\n",
    "            return False\n",
    "        elif response.startswith('skip') and not data['required']:\n",
    "            return None"
   ]
  },
  {
   "cell_type": "code",
   "execution_count": 4,
   "metadata": {},
   "outputs": [],
   "source": [
    "def get_answer(label):\n",
    "    if label['data']['type'] == 'boolean':\n",
    "        f = get_boolean_answer\n",
    "    return f(label)"
   ]
  },
  {
   "cell_type": "code",
   "execution_count": 5,
   "metadata": {},
   "outputs": [],
   "source": [
    "def println_if(s):\n",
    "    if s:\n",
    "        print(s)\n",
    "        print()"
   ]
  },
  {
   "cell_type": "code",
   "execution_count": 6,
   "metadata": {},
   "outputs": [],
   "source": [
    "def get_answers(doc):\n",
    "    data = doc.get('data', {})\n",
    "    println_if(data.get('title'))\n",
    "    println_if(data.get('abstract'))\n",
    "    println_if(doc.get('url'))\n",
    "    answers = []\n",
    "    for label in labels:\n",
    "        value = get_answer(label)\n",
    "        if value:\n",
    "            answer_data = {'answer': value,\n",
    "                           'document': doc['hash'],\n",
    "                           'label': label['hash'],\n",
    "                           'reviewer': config['reviewer'],\n",
    "                           'timestamp': math.floor(time.time())}\n",
    "            answer = {'data': answer_data, 'type': 'label-answer'}\n",
    "            answers.append(answer)\n",
    "    return answers"
   ]
  },
  {
   "cell_type": "code",
   "execution_count": null,
   "metadata": {},
   "outputs": [
    {
     "name": "stdout",
     "output_type": "stream",
     "text": [
      "Final report of the amended safety assessment of sodium laureth sulfate and related salts of sulfated ethoxylated alcohols\n",
      "\n",
      "Sodium laureth sulfate is a member of a group of salts of sulfated ethoxylated alcohols, the safety of which was evaluated by the Cosmetic Ingredient Review (CIR) Expert Panel for use in cosmetics. Sodium and ammonium laureth sulfate have not evoked adverse responses in any toxicological testing. Sodium laureth sulfate was demonstrated to be a dermal and ocular irritant but not a sensitizer. The Expert Panel recognized that there are data gaps regarding use and concentration of these ingredients. However, the overall information available on the types of products in which these ingredients are used and at what concentrations indicates a pattern of use. The potential to produce irritation exists with these salts of sulfated ethoxylated alcohols, but in practice they are not regularly seen to be irritating because of the formulations in which they are used. These ingredients should be used only when they can be formulated to be nonirritating.\n",
      "\n",
      "Acute toxicity? [Yes/No/Skip] yes\n",
      "Eye irritation? [Yes/No/Skip] no\n",
      "\n",
      "\n",
      "Anatomical location differences in sodium lauryl sulfate‐induced irritation\n",
      "\n",
      "\n",
      "Sodium lauryl sulfate (SLS)-induced contact dermatitis is a commonly used model for testing the effects of different topical formulations. According to the guidelines, the volar forearms are the preferred testing site; however, other anatomical locations have been used in previous research, particularly the upper back as the clinically used site for testing different antigens.\n",
      "\n",
      "Acute toxicity? [Yes/No/Skip] "
     ]
    }
   ],
   "source": [
    "with open(os.environ['SR_INPUT']) as sr_input, open(os.environ['SR_OUTPUT'], 'a') as sr_output:\n",
    "    for line in sr_input:\n",
    "        sr_output.write(line)\n",
    "        sr_output.flush()\n",
    "        event = json.loads(line)\n",
    "        if event['type'] == 'document':\n",
    "            for answer in get_answers(event):\n",
    "                sr_output.write(json.dumps(answer))\n",
    "                sr_output.flush()\n",
    "            print()\n",
    "            print()"
   ]
  }
 ],
 "metadata": {
  "kernelspec": {
   "display_name": "Python 3 (ipykernel)",
   "language": "python",
   "name": "python3"
  },
  "language_info": {
   "codemirror_mode": {
    "name": "ipython",
    "version": 3
   },
   "file_extension": ".py",
   "mimetype": "text/x-python",
   "name": "python",
   "nbconvert_exporter": "python",
   "pygments_lexer": "ipython3",
   "version": "3.9.12"
  }
 },
 "nbformat": 4,
 "nbformat_minor": 2
}
